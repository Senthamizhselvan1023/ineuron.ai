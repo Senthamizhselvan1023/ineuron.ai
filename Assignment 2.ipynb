{
 "cells": [
  {
   "cell_type": "markdown",
   "metadata": {},
   "source": [
    "# Task 1"
   ]
  },
  {
   "cell_type": "code",
   "execution_count": 1,
   "metadata": {},
   "outputs": [
    {
     "data": {
      "text/plain": [
       "72"
      ]
     },
     "execution_count": 1,
     "metadata": {},
     "output_type": "execute_result"
    }
   ],
   "source": [
    "def myreduce(function, sequence):\n",
    "    first = sequence[0]\n",
    "    for i in sequence[1:] :\n",
    "        first = function(first,i)\n",
    "    return first\n",
    "\n",
    "def multiplication(x,y):\n",
    "    return x*y\n",
    "\n",
    "myreduce(multiplication,[3,2,3,4])\n",
    "\n",
    "#myreduce(lambda x,y: x*y,[3,2,3,4])      #Using lambda "
   ]
  },
  {
   "cell_type": "code",
   "execution_count": 2,
   "metadata": {},
   "outputs": [
    {
     "data": {
      "text/plain": [
       "[4]"
      ]
     },
     "execution_count": 2,
     "metadata": {},
     "output_type": "execute_result"
    }
   ],
   "source": [
    "def myfilter(function, sequence):\n",
    "    filter_list = []\n",
    "    final_list = []\n",
    "    if function != None: \n",
    "        for i in sequence :\n",
    "            filter_list.append(function(i))\n",
    "        for i in range(len(filter_list)):\n",
    "            if filter_list[i] == True:\n",
    "                final_list.append(sequence[i])\n",
    "        return final_list\n",
    "    else:\n",
    "        for i in sequence :\n",
    "            filter_list.append(bool(i))\n",
    "        for i in range(len(filter_list)):\n",
    "            if filter_list[i] == True:\n",
    "                final_list.append(sequence[i])\n",
    "        return final_list\n",
    "'''\n",
    "def even(x):\n",
    "    if x % 2 == 0 and x != 0:\n",
    "        return True\n",
    "    else:\n",
    "        return False\n",
    "\n",
    "myfilter(even,[1,True,False,4])\n",
    "'''\n",
    "\n",
    "\n",
    "myfilter(lambda x: x%2 == 0 and x != 0,[1,True,False,4])"
   ]
  },
  {
   "cell_type": "code",
   "execution_count": 3,
   "metadata": {},
   "outputs": [
    {
     "data": {
      "text/plain": [
       "['A', 'C', 'A', 'D', 'G', 'I', 'L', 'D']"
      ]
     },
     "execution_count": 3,
     "metadata": {},
     "output_type": "execute_result"
    }
   ],
   "source": [
    "[ letter for letter in 'ACADGILD' ]"
   ]
  },
  {
   "cell_type": "code",
   "execution_count": 4,
   "metadata": {},
   "outputs": [
    {
     "data": {
      "text/plain": [
       "['x', 'xx', 'xxx', 'xxxx', 'y', 'yy', 'yyy', 'yyyy', 'z', 'zz', 'zzz', 'zzzz']"
      ]
     },
     "execution_count": 4,
     "metadata": {},
     "output_type": "execute_result"
    }
   ],
   "source": [
    "[ i*j for i in ['x', 'y', 'z'] for j in range(1,5) ]"
   ]
  },
  {
   "cell_type": "code",
   "execution_count": 5,
   "metadata": {
    "scrolled": true
   },
   "outputs": [
    {
     "data": {
      "text/plain": [
       "['x', 'y', 'z', 'xx', 'yy', 'zz', 'xxx', 'yyy', 'zzz', 'xxxx', 'yyyy', 'zzzz']"
      ]
     },
     "execution_count": 5,
     "metadata": {},
     "output_type": "execute_result"
    }
   ],
   "source": [
    "[ i*j for i in range(1,5) for j in ['x', 'y', 'z'] ]"
   ]
  },
  {
   "cell_type": "code",
   "execution_count": 6,
   "metadata": {},
   "outputs": [
    {
     "data": {
      "text/plain": [
       "[[2], [3], [4], [3], [4], [5], [4], [5], [6]]"
      ]
     },
     "execution_count": 6,
     "metadata": {},
     "output_type": "execute_result"
    }
   ],
   "source": [
    "[ [i+j] for i in range(3) for j in range(2,5)]"
   ]
  },
  {
   "cell_type": "code",
   "execution_count": 7,
   "metadata": {},
   "outputs": [
    {
     "data": {
      "text/plain": [
       "[[2, 3, 4, 5], [3, 4, 5, 6], [4, 5, 6, 7], [5, 6, 7, 8]]"
      ]
     },
     "execution_count": 7,
     "metadata": {},
     "output_type": "execute_result"
    }
   ],
   "source": [
    "[ [i,i+1,i+2,i+3] for i in range(2,6) ]"
   ]
  },
  {
   "cell_type": "code",
   "execution_count": 8,
   "metadata": {},
   "outputs": [
    {
     "data": {
      "text/plain": [
       "[(1, 1), (2, 1), (3, 1), (1, 2), (2, 2), (3, 2), (1, 3), (2, 3), (3, 3)]"
      ]
     },
     "execution_count": 8,
     "metadata": {},
     "output_type": "execute_result"
    }
   ],
   "source": [
    "[ (j,i) for i in range(1,4) for j in range(1,4) ]"
   ]
  },
  {
   "cell_type": "code",
   "execution_count": 9,
   "metadata": {},
   "outputs": [
    {
     "data": {
      "text/plain": [
       "'Nedunche1234'"
      ]
     },
     "execution_count": 9,
     "metadata": {},
     "output_type": "execute_result"
    }
   ],
   "source": [
    "def longestWord(list_of_words):\n",
    "    length_of_word = []\n",
    "    for word in list_of_words:\n",
    "        length_of_word.append(len(word))\n",
    "    long_word = length_of_word.index(max(length_of_word))\n",
    "    return list_of_words[long_word]\n",
    "\n",
    "longestWord(['Sentha', 'Bhavani','Nedunche1234','Medha', 'Nedunchezian'])"
   ]
  },
  {
   "cell_type": "markdown",
   "metadata": {},
   "source": [
    "# Task 2"
   ]
  },
  {
   "cell_type": "code",
   "execution_count": 10,
   "metadata": {},
   "outputs": [
    {
     "data": {
      "text/plain": [
       "43.30127018922193"
      ]
     },
     "execution_count": 10,
     "metadata": {},
     "output_type": "execute_result"
    }
   ],
   "source": [
    "class triangle_getvalue:\n",
    "    \n",
    "    def __init__(self, a, b, c):\n",
    "        self.a =  a\n",
    "        self.b =  b\n",
    "        self.c =  c\n",
    "        self.s = (a+b+c)/2\n",
    "        \n",
    "class triangle_area(triangle_getvalue):\n",
    "\n",
    "    def tri_area(self):\n",
    "        return (self.s * (self.s - self.a) * (self.s - self.b) * (self.s - self.c)) ** 0.5\n",
    "\n",
    "area = triangle_area(10,10,10)\n",
    "area.tri_area()"
   ]
  },
  {
   "cell_type": "code",
   "execution_count": 11,
   "metadata": {},
   "outputs": [
    {
     "data": {
      "text/plain": [
       "['Bhavani', 'Nedunchezian']"
      ]
     },
     "execution_count": 11,
     "metadata": {},
     "output_type": "execute_result"
    }
   ],
   "source": [
    "def filter_long_words(list_of_words, n):\n",
    "    new_list_of_word = []\n",
    "    for word in list_of_words:\n",
    "        if len(word) > n:\n",
    "            new_list_of_word.append(word)\n",
    "    return new_list_of_word\n",
    "\n",
    "filter_long_words(['Sentha', 'Bhavani','Medha', 'Nedunchezian'], 6)"
   ]
  },
  {
   "cell_type": "code",
   "execution_count": 12,
   "metadata": {},
   "outputs": [
    {
     "data": {
      "text/plain": [
       "[2, 3, 4]"
      ]
     },
     "execution_count": 12,
     "metadata": {},
     "output_type": "execute_result"
    }
   ],
   "source": [
    "def words_to_intergers(list_of_words):\n",
    "    lenght_of_word = []\n",
    "    for word in list_of_words:\n",
    "        lenght_of_word.append(len(word))\n",
    "    return lenght_of_word\n",
    "\n",
    "words_to_intergers([ 'ab','cde','erty'])"
   ]
  },
  {
   "cell_type": "code",
   "execution_count": 13,
   "metadata": {},
   "outputs": [
    {
     "data": {
      "text/plain": [
       "True"
      ]
     },
     "execution_count": 13,
     "metadata": {},
     "output_type": "execute_result"
    }
   ],
   "source": [
    "def vowel_test(character):\n",
    "    character = character.lower()\n",
    "    if character == 'a' or character == 'e' or character == 'i' or character == 'o' or character == 'u': \n",
    "        return True\n",
    "    else:\n",
    "        return False\n",
    "\n",
    "vowel_test('O')"
   ]
  }
 ],
 "metadata": {
  "kernelspec": {
   "display_name": "Python 3",
   "language": "python",
   "name": "python3"
  },
  "language_info": {
   "codemirror_mode": {
    "name": "ipython",
    "version": 3
   },
   "file_extension": ".py",
   "mimetype": "text/x-python",
   "name": "python",
   "nbconvert_exporter": "python",
   "pygments_lexer": "ipython3",
   "version": "3.7.3"
  }
 },
 "nbformat": 4,
 "nbformat_minor": 2
}
